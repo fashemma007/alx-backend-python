{
 "cells": [
  {
   "cell_type": "code",
   "execution_count": 1,
   "metadata": {},
   "outputs": [],
   "source": [
    "from typing import Any, Mapping, Sequence\n",
    "\n",
    "\n",
    "def access_nested_map(nested_map: Mapping, path: Sequence) -> Any:\n",
    "    \"\"\"Access nested map with key path.\n",
    "    Parameters\n",
    "    ----------\n",
    "    nested_map: Mapping\n",
    "        A nested map\n",
    "    path: Sequence\n",
    "        a sequence of key representing a path to the value\n",
    "    Example\n",
    "    -------\n",
    "    >>> nested_map = {\"a\": {\"b\": {\"c\": 1}}}\n",
    "    >>> access_nested_map(nested_map, [\"a\", \"b\", \"c\"])\n",
    "    1\n",
    "    \"\"\"\n",
    "    for key in path:\n",
    "        if not isinstance(nested_map, Mapping):\n",
    "            raise KeyError(key)\n",
    "        nested_map = nested_map[key]\n",
    "\n",
    "    return nested_map"
   ]
  },
  {
   "cell_type": "code",
   "execution_count": 6,
   "metadata": {},
   "outputs": [
    {
     "data": {
      "text/plain": [
       "\"{'a': {'b': {'c': {'d': 'Emmanuel'}}}}\""
      ]
     },
     "execution_count": 6,
     "metadata": {},
     "output_type": "execute_result"
    }
   ],
   "source": [
    "nested_map = {\"a\": {\"b\": {\"c\": {\"d\": 'Emmanuel'}}}}\n",
    "str(nested_map)\n",
    "# access_nested_map(nested_map, [\"a\", \"b\", \"c\",\"d\"])"
   ]
  },
  {
   "cell_type": "code",
   "execution_count": 4,
   "metadata": {},
   "outputs": [],
   "source": [
    "from typing import Dict\n",
    "import requests\n",
    "def get_json(url: str) -> Dict:\n",
    "    \"\"\"Get JSON from remote URL.\n",
    "    \"\"\"\n",
    "    response = requests.get(url)\n",
    "    return response.json()"
   ]
  },
  {
   "cell_type": "code",
   "execution_count": 3,
   "metadata": {},
   "outputs": [
    {
     "name": "stdout",
     "output_type": "stream",
     "text": [
      "1\n",
      "5\n"
     ]
    }
   ],
   "source": [
    "import datetime\n",
    "from unittest.mock import Mock\n",
    "\n",
    "# Save a couple of test days\n",
    "tuesday = datetime.datetime(year=2019, month=1, day=1)\n",
    "saturday = datetime.datetime(year=2019, month=1, day=5)\n",
    "\n",
    "# Mock datetime to control today's date\n",
    "datetime = Mock()\n",
    "\n",
    "def is_weekday():\n",
    "    today = datetime.datetime.today()\n",
    "    # Python's datetime library treats Monday as 0 and Sunday as 6\n",
    "    # print(today.weekday())\n",
    "    return (0 <= today.weekday() < 5)\n",
    "\n",
    "# Mock .today() to return Tuesday\n",
    "datetime.datetime.today.return_value = tuesday\n",
    "# Test Tuesday is a weekday\n",
    "assert is_weekday()\n",
    "# Mock .today() to return Saturday\n",
    "datetime.datetime.today.return_value = saturday\n",
    "# Test Saturday is not a weekday\n",
    "assert not is_weekday()"
   ]
  },
  {
   "cell_type": "code",
   "execution_count": 10,
   "metadata": {},
   "outputs": [],
   "source": [
    "from typing import (\n",
    "    List,\n",
    "    Dict,\n",
    ")\n",
    "\n",
    "from utils import (\n",
    "    get_json,\n",
    "    access_nested_map,\n",
    "    memoize,\n",
    ")\n",
    "\n",
    "\n",
    "class GithubOrgClient:\n",
    "    \"\"\"A Githib org client\n",
    "    \"\"\"\n",
    "    ORG_URL = \"https://api.github.com/orgs/{org}\"\n",
    "\n",
    "    def __init__(self, org_name: str) -> None:\n",
    "        \"\"\"Init method of GithubOrgClient\"\"\"\n",
    "        self._org_name = org_name\n",
    "\n",
    "    @memoize\n",
    "    def org(self) -> Dict:\n",
    "        \"\"\"Memoize org\"\"\"\n",
    "        return get_json(self.ORG_URL.format(org=self._org_name))\n",
    "\n",
    "    @property\n",
    "    def _public_repos_url(self) -> str:\n",
    "        \"\"\"Public repos URL\"\"\"\n",
    "        return self.org[\"repos_url\"]\n",
    "\n",
    "    @memoize\n",
    "    def repos_payload(self) -> Dict:\n",
    "        \"\"\"Memoize repos payload\"\"\"\n",
    "        return get_json(self._public_repos_url)\n",
    "\n",
    "    def public_repos(self, license: str = None) -> List[str]:\n",
    "        \"\"\"Public repos\"\"\"\n",
    "        json_payload = self.repos_payload\n",
    "        public_repos = [\n",
    "            repo[\"name\"] for repo in json_payload\n",
    "            if license is None or self.has_license(repo, license)\n",
    "        ]\n",
    "\n",
    "        return public_repos\n",
    "\n",
    "    @staticmethod\n",
    "    def has_license(repo: Dict[str, Dict], license_key: str) -> bool:\n",
    "        \"\"\"Static: has_license\"\"\"\n",
    "        assert license_key is not None, \"license_key cannot be None\"\n",
    "        try:\n",
    "            has_license = access_nested_map(\n",
    "                repo, (\"license\", \"key\")) == license_key\n",
    "        except KeyError:\n",
    "            return False\n",
    "        return has_license\n"
   ]
  },
  {
   "cell_type": "code",
   "execution_count": 11,
   "metadata": {},
   "outputs": [],
   "source": [
    "google = GithubOrgClient(\"google\")"
   ]
  },
  {
   "cell_type": "code",
   "execution_count": 12,
   "metadata": {},
   "outputs": [
    {
     "name": "stdout",
     "output_type": "stream",
     "text": [
      "{'login': 'google', 'id': 1342004, 'node_id': 'MDEyOk9yZ2FuaXphdGlvbjEzNDIwMDQ=', 'url': 'https://api.github.com/orgs/google', 'repos_url': 'https://api.github.com/orgs/google/repos', 'events_url': 'https://api.github.com/orgs/google/events', 'hooks_url': 'https://api.github.com/orgs/google/hooks', 'issues_url': 'https://api.github.com/orgs/google/issues', 'members_url': 'https://api.github.com/orgs/google/members{/member}', 'public_members_url': 'https://api.github.com/orgs/google/public_members{/member}', 'avatar_url': 'https://avatars.githubusercontent.com/u/1342004?v=4', 'description': 'Google ❤️ Open Source', 'name': 'Google', 'company': None, 'blog': 'https://opensource.google/', 'location': None, 'email': 'opensource@google.com', 'twitter_username': 'GoogleOSS', 'is_verified': True, 'has_organization_projects': True, 'has_repository_projects': True, 'public_repos': 2514, 'public_gists': 0, 'followers': 23123, 'following': 0, 'html_url': 'https://github.com/google', 'created_at': '2012-01-18T01:30:18Z', 'updated_at': '2021-12-30T01:40:20Z', 'type': 'Organization'}\n"
     ]
    }
   ],
   "source": [
    "print(google.org)"
   ]
  },
  {
   "cell_type": "code",
   "execution_count": 7,
   "metadata": {},
   "outputs": [
    {
     "data": {
      "text/plain": [
       "['truth',\n",
       " 'ruby-openid-apps-discovery',\n",
       " 'autoparse',\n",
       " 'anvil-build',\n",
       " 'googletv-android-samples',\n",
       " 'ChannelPlate',\n",
       " 'GL-Shader-Validator',\n",
       " 'qpp',\n",
       " 'CSP-Validator',\n",
       " 'embed-dart-vm',\n",
       " 'module-server',\n",
       " 'cxx-std-draft',\n",
       " 'filesystem-proposal',\n",
       " 'libcxx',\n",
       " 'tracing-framework',\n",
       " 'namebench',\n",
       " 'devtoolsExtended',\n",
       " 'sirius',\n",
       " 'testRunner',\n",
       " 'crx2app',\n",
       " 'episodes.dart',\n",
       " 'cpp-netlib',\n",
       " 'dagger',\n",
       " 'ios-webkit-debug-proxy',\n",
       " 'google.github.io',\n",
       " 'kratu',\n",
       " 'build-debian-cloud',\n",
       " 'traceur-compiler',\n",
       " 'firmata.py',\n",
       " 'vector_math.dart']"
      ]
     },
     "execution_count": 7,
     "metadata": {},
     "output_type": "execute_result"
    }
   ],
   "source": [
    "google.public_repos()"
   ]
  },
  {
   "cell_type": "code",
   "execution_count": null,
   "metadata": {},
   "outputs": [],
   "source": []
  }
 ],
 "metadata": {
  "kernelspec": {
   "display_name": "venv",
   "language": "python",
   "name": "python3"
  },
  "language_info": {
   "codemirror_mode": {
    "name": "ipython",
    "version": 3
   },
   "file_extension": ".py",
   "mimetype": "text/x-python",
   "name": "python",
   "nbconvert_exporter": "python",
   "pygments_lexer": "ipython3",
   "version": "3.8.16"
  },
  "orig_nbformat": 4
 },
 "nbformat": 4,
 "nbformat_minor": 2
}

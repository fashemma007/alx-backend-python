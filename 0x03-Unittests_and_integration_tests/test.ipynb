{
 "cells": [
  {
   "cell_type": "code",
   "execution_count": 1,
   "metadata": {},
   "outputs": [],
   "source": [
    "from typing import Any, Mapping, Sequence\n",
    "\n",
    "\n",
    "def access_nested_map(nested_map: Mapping, path: Sequence) -> Any:\n",
    "    \"\"\"Access nested map with key path.\n",
    "    Parameters\n",
    "    ----------\n",
    "    nested_map: Mapping\n",
    "        A nested map\n",
    "    path: Sequence\n",
    "        a sequence of key representing a path to the value\n",
    "    Example\n",
    "    -------\n",
    "    >>> nested_map = {\"a\": {\"b\": {\"c\": 1}}}\n",
    "    >>> access_nested_map(nested_map, [\"a\", \"b\", \"c\"])\n",
    "    1\n",
    "    \"\"\"\n",
    "    for key in path:\n",
    "        if not isinstance(nested_map, Mapping):\n",
    "            raise KeyError(key)\n",
    "        nested_map = nested_map[key]\n",
    "\n",
    "    return nested_map"
   ]
  },
  {
   "cell_type": "code",
   "execution_count": 3,
   "metadata": {},
   "outputs": [
    {
     "data": {
      "text/plain": [
       "'Emmanuel'"
      ]
     },
     "execution_count": 3,
     "metadata": {},
     "output_type": "execute_result"
    }
   ],
   "source": [
    "nested_map = {\"a\": {\"b\": {\"c\": {\"d\": 'Emmanuel'}}}}\n",
    "access_nested_map(nested_map, [\"a\", \"b\", \"c\",\"d\"])"
   ]
  },
  {
   "cell_type": "code",
   "execution_count": null,
   "metadata": {},
   "outputs": [],
   "source": []
  }
 ],
 "metadata": {
  "kernelspec": {
   "display_name": "venv",
   "language": "python",
   "name": "python3"
  },
  "language_info": {
   "codemirror_mode": {
    "name": "ipython",
    "version": 3
   },
   "file_extension": ".py",
   "mimetype": "text/x-python",
   "name": "python",
   "nbconvert_exporter": "python",
   "pygments_lexer": "ipython3",
   "version": "3.8.16"
  },
  "orig_nbformat": 4
 },
 "nbformat": 4,
 "nbformat_minor": 2
}

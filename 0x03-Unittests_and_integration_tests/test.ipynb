{
 "cells": [
  {
   "cell_type": "code",
   "execution_count": 1,
   "metadata": {},
   "outputs": [],
   "source": [
    "from typing import Any, Mapping, Sequence\n",
    "\n",
    "\n",
    "def access_nested_map(nested_map: Mapping, path: Sequence) -> Any:\n",
    "    \"\"\"Access nested map with key path.\n",
    "    Parameters\n",
    "    ----------\n",
    "    nested_map: Mapping\n",
    "        A nested map\n",
    "    path: Sequence\n",
    "        a sequence of key representing a path to the value\n",
    "    Example\n",
    "    -------\n",
    "    >>> nested_map = {\"a\": {\"b\": {\"c\": 1}}}\n",
    "    >>> access_nested_map(nested_map, [\"a\", \"b\", \"c\"])\n",
    "    1\n",
    "    \"\"\"\n",
    "    for key in path:\n",
    "        if not isinstance(nested_map, Mapping):\n",
    "            raise KeyError(key)\n",
    "        nested_map = nested_map[key]\n",
    "\n",
    "    return nested_map"
   ]
  },
  {
   "cell_type": "code",
   "execution_count": 6,
   "metadata": {},
   "outputs": [
    {
     "data": {
      "text/plain": [
       "\"{'a': {'b': {'c': {'d': 'Emmanuel'}}}}\""
      ]
     },
     "execution_count": 6,
     "metadata": {},
     "output_type": "execute_result"
    }
   ],
   "source": [
    "nested_map = {\"a\": {\"b\": {\"c\": {\"d\": 'Emmanuel'}}}}\n",
    "str(nested_map)\n",
    "# access_nested_map(nested_map, [\"a\", \"b\", \"c\",\"d\"])"
   ]
  },
  {
   "cell_type": "code",
   "execution_count": 4,
   "metadata": {},
   "outputs": [],
   "source": [
    "from typing import Dict\n",
    "import requests\n",
    "def get_json(url: str) -> Dict:\n",
    "    \"\"\"Get JSON from remote URL.\n",
    "    \"\"\"\n",
    "    response = requests.get(url)\n",
    "    return response.json()"
   ]
  },
  {
   "cell_type": "code",
   "execution_count": 3,
   "metadata": {},
   "outputs": [
    {
     "name": "stdout",
     "output_type": "stream",
     "text": [
      "1\n",
      "5\n"
     ]
    }
   ],
   "source": [
    "import datetime\n",
    "from unittest.mock import Mock\n",
    "\n",
    "# Save a couple of test days\n",
    "tuesday = datetime.datetime(year=2019, month=1, day=1)\n",
    "saturday = datetime.datetime(year=2019, month=1, day=5)\n",
    "\n",
    "# Mock datetime to control today's date\n",
    "datetime = Mock()\n",
    "\n",
    "def is_weekday():\n",
    "    today = datetime.datetime.today()\n",
    "    # Python's datetime library treats Monday as 0 and Sunday as 6\n",
    "    # print(today.weekday())\n",
    "    return (0 <= today.weekday() < 5)\n",
    "\n",
    "# Mock .today() to return Tuesday\n",
    "datetime.datetime.today.return_value = tuesday\n",
    "# Test Tuesday is a weekday\n",
    "assert is_weekday()\n",
    "# Mock .today() to return Saturday\n",
    "datetime.datetime.today.return_value = saturday\n",
    "# Test Saturday is not a weekday\n",
    "assert not is_weekday()"
   ]
  },
  {
   "cell_type": "code",
   "execution_count": 11,
   "metadata": {},
   "outputs": [
    {
     "name": "stdout",
     "output_type": "stream",
     "text": [
      "<Mock name='mock.get().status_code' id='140091560504576'>\n"
     ]
    },
    {
     "data": {
      "text/plain": [
       "<Mock name='mock.get().json()' id='140091561674640'>"
      ]
     },
     "execution_count": 11,
     "metadata": {},
     "output_type": "execute_result"
    }
   ],
   "source": []
  },
  {
   "cell_type": "code",
   "execution_count": null,
   "metadata": {},
   "outputs": [],
   "source": []
  }
 ],
 "metadata": {
  "kernelspec": {
   "display_name": "venv",
   "language": "python",
   "name": "python3"
  },
  "language_info": {
   "codemirror_mode": {
    "name": "ipython",
    "version": 3
   },
   "file_extension": ".py",
   "mimetype": "text/x-python",
   "name": "python",
   "nbconvert_exporter": "python",
   "pygments_lexer": "ipython3",
   "version": "3.8.16"
  },
  "orig_nbformat": 4
 },
 "nbformat": 4,
 "nbformat_minor": 2
}
